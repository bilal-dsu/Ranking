{
 "cells": [
  {
   "cell_type": "markdown",
   "metadata": {},
   "source": [
    "# Ranking of articles using open-access citation-metadata"
   ]
  },
  {
   "cell_type": "markdown",
   "metadata": {},
   "source": [
    "Scholarly publications have seen exponential growth in past decades, however, linear growth is estimated for the research topics. It suggests that numerous articles appear every day within a research field. Researchers invest their time and energy in keeping up-to-date with the current state-of-the-art. Research is a continuous process and it builds on the past work that has been done attributed through citations. Although, there are numerous reasons why a research article gets cited, as well as, its critics as to why citations should not be used to assess the value of current work. However, with the current information overload, it is not easy to keep abreast of all the published work. Researchers in 20th century would dig through all the available literature to find out the latest trends but the researcher of today has more stuff to read on a topic than their lifetime. They need access to current research as soon as it happens but the citation-count metrics, currently in practice, limit this approach. To use citation-based metrics, the articles must acquire a reasonable number of citations which can vary from field to field. Our main contribution is to use a heterogeneous network that includes the article, author and journal to recommend articles in a research field."
   ]
  },
  {
   "cell_type": "markdown",
   "metadata": {},
   "source": [
    "# Import"
   ]
  },
  {
   "cell_type": "code",
   "execution_count": 1,
   "metadata": {},
   "outputs": [],
   "source": [
    "import Ranking # from https://github.com/bilal-dsu/Ranking/\n",
    "\n",
    "from matplotlib import pyplot\n",
    "from scipy.stats import spearmanr\n",
    "import json, os,sys,snap\n",
    "import csv\n",
    "import pandas as pd\n",
    "import snap\n",
    "import numpy as np\n",
    "import re\n",
    "from itertools import combinations\n",
    "from os import path\n",
    "import seaborn as sns\n",
    "import matplotlib.pyplot as plt\n",
    "\n",
    "import measures # from https://github.com/dkaterenchuk/ranking_measures\n"
   ]
  },
  {
   "cell_type": "markdown",
   "metadata": {},
   "source": [
    "# Initializations Total Citations"
   ]
  },
  {
   "cell_type": "markdown",
   "metadata": {},
   "source": [
    "The original graph is filtered to work with nodes between the year 2000 till 2018, termed Total Citations (TC). Further, we remove any journals with zero out-degree since they do not participate in the ranking method."
   ]
  },
  {
   "cell_type": "code",
   "execution_count": 2,
   "metadata": {},
   "outputs": [],
   "source": [
    "# following files must be present in the CWD\n",
    "metaDataCSV = \"MetaData 2000-2018.csv\" \n",
    "ArticleGraph = \"ArticleGraph.graph\"\n",
    "ArticleHash = \"ArticleHash.hash\"\n",
    "\n",
    "# following files will be created in the CWD\n",
    "JournalCitationTXT = \"JournalCitation.txt\"\n",
    "JournalGraph = \"JournalGraph.graph\"\n",
    "JournalHash = \"JournalHash.hash\"\n",
    "JournalSubGraph = \"JournalSubGraph.graph\"\n",
    "SubMetaDataCSV = \"SubMetaData.csv\"\n",
    "AuthorCitationTXT = \"AuthorCitation.txt\"\n",
    "ArticleCitationTXT = \"ArticleCitation.txt\"\n",
    "AuthorGraph = \"AuthorGraph.graph\"\n",
    "AuthorHash = \"AuthorHash.hash\"\n",
    "\n",
    "AuthorInfoCSV = \"AuthorInfo.csv\"\n",
    "JournalInfoCSV = \"JournalInfo.csv\"\n",
    "ArticleInfoCSV = \"ArticleInfo.csv\"\n",
    "\n",
    "AuthorRankCSV = \"AuthorRank.csv\"\n",
    "JournalRankCSV = \"JournalRank.csv\"\n",
    "ArticleRankCSV = \"ArticleRank.csv\"\n",
    "\n",
    "ArticlesGraphStats=\"ArticleGraphStats.csv\"\n",
    "JournalGraphStats=\"JournalGraphStats.csv\"\n",
    "AuthorGraphStats=\"AuthorGraphStats.csv\"\n",
    "GraphStatsOverall=\"GraphStatsOverall.csv\""
   ]
  },
  {
   "cell_type": "markdown",
   "metadata": {},
   "source": [
    "# Generate Total Citations"
   ]
  },
  {
   "cell_type": "code",
   "execution_count": null,
   "metadata": {},
   "outputs": [],
   "source": [
    "Ranking.generateJournanalCitationNetworkText(metaDataCSV, JournalCitationTXT)"
   ]
  },
  {
   "cell_type": "code",
   "execution_count": null,
   "metadata": {},
   "outputs": [],
   "source": [
    "Ranking.generateJournalCitationGraph(JournalCitationTXT, JournalGraph, JournalHash)"
   ]
  },
  {
   "cell_type": "code",
   "execution_count": null,
   "metadata": {},
   "outputs": [],
   "source": [
    "Ranking.generateSubGraph(JournalHash, JournalGraph, JournalSubGraph, metaDataCSV, SubMetaDataCSV) "
   ]
  },
  {
   "cell_type": "code",
   "execution_count": null,
   "metadata": {},
   "outputs": [],
   "source": [
    "Ranking.generateAuthorArticleCitationNetworkText(SubMetaDataCSV, AuthorCitationTXT, ArticleCitationTXT)"
   ]
  },
  {
   "cell_type": "code",
   "execution_count": null,
   "metadata": {
    "scrolled": true
   },
   "outputs": [],
   "source": [
    "Ranking.generateAuthorArticleGraph(AuthorCitationTXT, AuthorGraph, AuthorHash, ArticleCitationTXT, \n",
    "                           ArticleGraph, ArticleHash)"
   ]
  },
  {
   "cell_type": "markdown",
   "metadata": {},
   "source": [
    "# Initializations Early Citations"
   ]
  },
  {
   "cell_type": "markdown",
   "metadata": {},
   "source": [
    "To evaluate the ranking technique, we take nodes of the year 2005 and apply a cut-off on citations till 2010, termed Early Citations (EC).  The cutoff window is configurable. Only a few past years are considered to give equal chance to early career researchers."
   ]
  },
  {
   "cell_type": "code",
   "execution_count": null,
   "metadata": {},
   "outputs": [],
   "source": [
    "# Provide values for Early Citations cutoff\n",
    "\n",
    "RankYearStart = 2005\n",
    "RankYearEnd = 2005\n",
    "CutOffStart = 2000\n",
    "CutOffEnd = 2010\n",
    "\n",
    "# following files will be created in the CWD\n",
    "\n",
    "metaDataRankYearCSV = \"metaData\" + str(RankYearStart)  + \"-\" + str(RankYearEnd) + \".csv\"\n",
    "metaDataCutOffYearCSV = \"metaData\" + str(CutOffStart)  + \"-\" + str(CutOffEnd) + \".csv\"\n",
    "\n",
    "JournalCutOffYearTXT = \"Journal\" + str(CutOffStart)  + \"-\" + str(CutOffEnd) + \".txt\"\n",
    "JournalCutOffYearGraph = \"Journal\" + str(CutOffStart)  + \"-\" + str(CutOffEnd) + \".graph\"\n",
    "JournalCutOffYearHash = \"Journal\" + str(CutOffStart)  + \"-\" + str(CutOffEnd) + \".hash\"\n",
    "JournalCutOffYearInfoCSV = \"Journal\" + str(CutOffStart)  + \"-\" + str(CutOffEnd) + \"Info.csv\"\n",
    "JournalCutOffYearRankCSV = \"Journal\" + str(CutOffStart)  + \"-\" + str(CutOffEnd) + \"Rank.csv\"\n",
    "\n",
    "JournalCutOffYearSubGraph = \"JournalSubGraph\"+ str(CutOffStart)  + \"-\" + str(CutOffEnd) + \".graph\"\n",
    "\n",
    "ArticleCutOffYearTXT = \"Article\" + str(CutOffStart)  + \"-\" + str(CutOffEnd) + \".txt\"\n",
    "ArticleCutOffYearGraph = \"Article\" + str(CutOffStart)  + \"-\" + str(CutOffEnd) + \".graph\"\n",
    "ArticleCutOffYearHash = \"Article\" + str(CutOffStart)  + \"-\" + str(CutOffEnd) + \".hash\"\n",
    "ArticleCutOffYearInfoCSV = \"Article\" + str(CutOffStart)  + \"-\" + str(CutOffEnd) + \"Info.csv\"\n",
    "ArticleCutOffYearRankCSV = \"Article\" + str(CutOffStart)  + \"-\" + str(CutOffEnd) + \"Rank.csv\"\n",
    "\n",
    "AuthorCutOffYearTXT = \"Author\" + str(CutOffStart)  + \"-\" + str(CutOffEnd) + \".txt\"\n",
    "AuthorCutOffYearGraph = \"Author\" + str(CutOffStart)  + \"-\" + str(CutOffEnd) + \".graph\"\n",
    "AuthorCutOffYearHash = \"Author\" + str(CutOffStart)  + \"-\" + str(CutOffEnd) + \".hash\"\n",
    "AuthorCutOffYearInfoCSV = \"Author\" + str(CutOffStart)  + \"-\" + str(CutOffEnd) + \"Info.csv\"\n",
    "AuthorCutOffYearRankCSV = \"Author\" + str(CutOffStart)  + \"-\" + str(CutOffEnd) + \"Rank.csv\"\n",
    "\n",
    "AuthorGraphStatsCutOffYear = \"AuthorGraphStats\" + str(CutOffStart)  + \"-\" + str(CutOffEnd) + \".csv\"\n",
    "ArticleGraphStatsCutOffYear = \"ArticleGraphStats\" + str(CutOffStart)  + \"-\" + str(CutOffEnd) + \".csv\"\n",
    "JournalGraphStatsCutOffYear = \"JournalGraphStats\" + str(CutOffStart)  + \"-\" + str(CutOffEnd) + \".csv\"\n",
    "GraphStatsCutOffYear = \"GraphStats\" + str(CutOffStart)  + \"-\" + str(CutOffEnd) + \".csv\""
   ]
  },
  {
   "cell_type": "markdown",
   "metadata": {},
   "source": [
    "# Generate Early Citations"
   ]
  },
  {
   "cell_type": "code",
   "execution_count": null,
   "metadata": {},
   "outputs": [],
   "source": [
    "Ranking.generateTemporalNetwork(SubMetaDataCSV, RankYearStart,RankYearEnd, CutOffStart, CutOffEnd, \n",
    "                        metaDataRankYearCSV, metaDataCutOffYearCSV, ArticleHash, ArticleGraph)"
   ]
  },
  {
   "cell_type": "code",
   "execution_count": null,
   "metadata": {},
   "outputs": [],
   "source": [
    "Ranking.generateJournanalCitationNetworkText(metaDataCutOffYearCSV, JournalCutOffYearTXT)"
   ]
  },
  {
   "cell_type": "code",
   "execution_count": null,
   "metadata": {},
   "outputs": [],
   "source": [
    "Ranking.generateJournalCitationGraph(JournalCutOffYearTXT, JournalCutOffYearGraph, JournalCutOffYearHash)"
   ]
  },
  {
   "cell_type": "code",
   "execution_count": null,
   "metadata": {},
   "outputs": [],
   "source": [
    "Ranking.generateAuthorArticleCitationNetworkText(metaDataCutOffYearCSV, AuthorCutOffYearTXT, ArticleCutOffYearTXT)"
   ]
  },
  {
   "cell_type": "code",
   "execution_count": null,
   "metadata": {},
   "outputs": [],
   "source": [
    "Ranking.generateAuthorArticleGraph(AuthorCutOffYearTXT, AuthorCutOffYearGraph, AuthorCutOffYearHash, \n",
    "                           ArticleCutOffYearTXT, ArticleCutOffYearGraph, ArticleCutOffYearHash)"
   ]
  },
  {
   "cell_type": "markdown",
   "metadata": {},
   "source": [
    "# Calculate Rank"
   ]
  },
  {
   "cell_type": "markdown",
   "metadata": {},
   "source": [
    "The rank of a journal or author is given by the PageRank measure in Equation 1.\n",
    "\\begin{equation}\n",
    "\\label{eq:Rank}\n",
    "R(i) = ((1-\\alpha)/n) + \\alpha * \\sum_{\\substack{j}} R(j)\\frac{aij}{Ni}\n",
    "\\end{equation}\n",
    "where, n is the total no. of nodes in the network,\n",
    "\n",
    "$\\alpha$ $\\epsilon$ $(0 , 1)$ is damping factor (set to $0.85$),\n",
    "\n",
    "aij is 1 if node (i) cites node (j) and 0 otherwise,\n",
    "\n",
    "Ni is the total neighbours of node i.\n",
    "\n",
    "The rank of journal and author is transferred to the article given by Equation 2, thereby, inflating the rank of the article which was cited by any influential journal or author. The rank of the article “a” published in journal “b” by the author(s) “c” is:\n",
    "\\begin{equation} \\label{eq:ArticleRank}\n",
    "AR(a) = ((1-\\beta) * R(b) + \\beta * \\frac {\\sum_{\\substack{i}} R (i)}{c})\n",
    "\\end{equation}\n",
    "where, $\\beta$ $\\epsilon$ $(0 , 1)$ is adjustment for weight-age of author and journal influence (set to $0.5$)."
   ]
  },
  {
   "cell_type": "code",
   "execution_count": null,
   "metadata": {},
   "outputs": [],
   "source": [
    "Ranking.generateAuthorJournalRank(AuthorHash, AuthorGraph, AuthorInfoCSV, JournalHash, JournalSubGraph, JournalInfoCSV, JournalGraphStats, AuthorGraphStats)"
   ]
  },
  {
   "cell_type": "code",
   "execution_count": null,
   "metadata": {},
   "outputs": [],
   "source": [
    "Ranking.generateArticleRank(JournalInfoCSV, SubMetaDataCSV, ArticleGraph, ArticleHash, AuthorInfoCSV, ArticleInfoCSV, ArticlesGraphStats)"
   ]
  },
  {
   "cell_type": "code",
   "execution_count": null,
   "metadata": {},
   "outputs": [],
   "source": [
    "Ranking.generateAuthorJournalRank(AuthorCutOffYearHash, AuthorCutOffYearGraph, AuthorCutOffYearInfoCSV, \n",
    "             JournalCutOffYearHash, JournalCutOffYearGraph, JournalCutOffYearInfoCSV, JournalGraphStatsCutOffYear,\n",
    "                           AuthorGraphStatsCutOffYear)"
   ]
  },
  {
   "cell_type": "code",
   "execution_count": null,
   "metadata": {},
   "outputs": [],
   "source": [
    "Ranking.generateArticleRank(JournalCutOffYearInfoCSV, metaDataCutOffYearCSV, ArticleCutOffYearGraph, ArticleCutOffYearHash, \n",
    "                    AuthorCutOffYearInfoCSV, ArticleCutOffYearInfoCSV, ArticleGraphStatsCutOffYear)"
   ]
  },
  {
   "cell_type": "markdown",
   "metadata": {},
   "source": [
    "# Analysis"
   ]
  },
  {
   "cell_type": "markdown",
   "metadata": {},
   "source": [
    "On the temporal citation network, we correlate the EC rank of publications with the rank calculated using TC. It is used as a baseline for evaluating the ranking mechanism. To identify whether our technique captures key articles with a high EC rank that went on to attain a high rank in TC, we apply Spearman's rank correlation. Our preliminary analysis suggests that the ranking technique is stable. The rank calculated with EC correlates with rank calculated with TC. However, there is no significant correlation with citation count, suggesting that the technique does not rely on merely counting citations. It essentially means that instead of only counting citations the value of a citation coming from a reputable journal gets a higher rank."
   ]
  },
  {
   "cell_type": "code",
   "execution_count": null,
   "metadata": {},
   "outputs": [],
   "source": [
    "Ranking.generateGraphStats(JournalGraphStats, AuthorGraphStats, ArticlesGraphStats, GraphStatsOverall)"
   ]
  },
  {
   "cell_type": "code",
   "execution_count": null,
   "metadata": {},
   "outputs": [],
   "source": [
    "Ranking.generateGraphStats(JournalGraphStatsCutOffYear, AuthorGraphStatsCutOffYear, \n",
    "                   ArticleGraphStatsCutOffYear , GraphStatsCutOffYear)"
   ]
  },
  {
   "cell_type": "code",
   "execution_count": null,
   "metadata": {},
   "outputs": [],
   "source": [
    "Ranking.correlationAnalysis(AuthorInfoCSV, AuthorCutOffYearInfoCSV, JournalInfoCSV, \n",
    "            JournalCutOffYearInfoCSV, ArticleInfoCSV, ArticleCutOffYearInfoCSV, metaDataRankYearCSV)\n"
   ]
  }
 ],
 "metadata": {
  "kernelspec": {
   "display_name": "Python 3",
   "language": "python",
   "name": "python3"
  },
  "language_info": {
   "codemirror_mode": {
    "name": "ipython",
    "version": 3
   },
   "file_extension": ".py",
   "mimetype": "text/x-python",
   "name": "python",
   "nbconvert_exporter": "python",
   "pygments_lexer": "ipython3",
   "version": "3.7.3"
  }
 },
 "nbformat": 4,
 "nbformat_minor": 2
}
